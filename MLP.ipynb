{
 "cells": [
  {
   "cell_type": "markdown",
   "metadata": {},
   "source": [
    "Fetch MNIST dataset to /data"
   ]
  },
  {
   "cell_type": "code",
   "execution_count": 41,
   "metadata": {},
   "outputs": [
    {
     "name": "stdout",
     "output_type": "stream",
     "text": [
      "Cache path: /Users/thehamcar/.cache/kagglehub/datasets/hojjatk/mnist-dataset/versions/1\n",
      "Copied train-labels.idx1-ubyte to /Users/thehamcar/MNIST MLP/data\n",
      "Copied train-images.idx3-ubyte to /Users/thehamcar/MNIST MLP/data\n",
      "Copied t10k-labels.idx1-ubyte to /Users/thehamcar/MNIST MLP/data\n",
      "Copied t10k-images.idx3-ubyte to /Users/thehamcar/MNIST MLP/data\n",
      "All dataset files copied to /Users/thehamcar/MNIST MLP/data\n"
     ]
    }
   ],
   "source": [
    "import kagglehub\n",
    "import os\n",
    "import shutil\n",
    "\n",
    "data_dir = os.path.join(os.getcwd(), \"data\")\n",
    "os.makedirs(data_dir, exist_ok=True)\n",
    "\n",
    "cache_path = kagglehub.dataset_download(\"hojjatk/mnist-dataset\")\n",
    "\n",
    "print(\"Cache path:\", cache_path)\n",
    "\n",
    "for file in os.listdir(cache_path):\n",
    "    src_file = os.path.join(cache_path, file)\n",
    "    dst_file = os.path.join(data_dir, file)\n",
    "    \n",
    "    if os.path.isfile(src_file):\n",
    "        shutil.copy2(src_file, dst_file)\n",
    "        print(f\"Copied {file} to {data_dir}\")\n",
    "\n",
    "print(f\"All dataset files copied to {data_dir}\")"
   ]
  },
  {
   "cell_type": "markdown",
   "metadata": {},
   "source": [
    "Create function to read the ubyte images and labels\n",
    "Structure of the files in binary: \n",
    "\n",
    "Header structure (first 16 bytes):\n",
    "\n",
    "Bytes 0-3: Magic number (2051) indicating this is an image file\n",
    "Bytes 4-7: Number of images in the file\n",
    "Bytes 8-11: Number of rows per image (28)\n",
    "Bytes 12-15: Number of columns per image (28)\n",
    "\n",
    "Consecutive  28x28 (784) bytes representing each image\n",
    "\n",
    "Header structure (first 8 bytes):\n",
    "\n",
    "Bytes 0-3: Magic number (2049) indicating this is a label file\n",
    "Bytes 4-7: Number of labels in the file\n",
    "\n",
    "Consecutive single bytes from 0-9"
   ]
  },
  {
   "cell_type": "code",
   "execution_count": 42,
   "metadata": {},
   "outputs": [],
   "source": [
    "import numpy as np\n",
    "\n",
    "def load_mnist_images(filename):\n",
    "    with open(filename, 'rb') as f:\n",
    "        #f.read moves the pointer as it reads\n",
    "        magic = int.from_bytes(f.read(4), 'big')\n",
    "        num_images = int.from_bytes(f.read(4), 'big')\n",
    "        num_rows = int.from_bytes(f.read(4), 'big')\n",
    "        num_cols = int.from_bytes(f.read(4), 'big')\n",
    "        images = np.frombuffer(f.read(), dtype=np.uint8)\n",
    "        images = images.reshape((num_images, num_rows, num_cols))\n",
    "        return images\n",
    "\n",
    "def load_mnist_labels(filename):\n",
    "    with open(filename, 'rb') as f:\n",
    "        magic = int.from_bytes(f.read(4), 'big')\n",
    "        num_labels = int.from_bytes(f.read(4), 'big')\n",
    "        labels = np.frombuffer(f.read(), dtype=np.uint8)\n",
    "        return labels\n",
    "    \n",
    "def display_image(image, label):\n",
    "    import matplotlib.pyplot as plt\n",
    "    plt.imshow(image, cmap='gray')\n",
    "    plt.title(f'Label: {label}')\n",
    "    plt.axis('off')\n",
    "    plt.show()"
   ]
  },
  {
   "cell_type": "markdown",
   "metadata": {},
   "source": [
    "Load MNIST dataset"
   ]
  },
  {
   "cell_type": "code",
   "execution_count": 43,
   "metadata": {},
   "outputs": [
    {
     "name": "stdout",
     "output_type": "stream",
     "text": [
      "Loaded MNIST dataset\n"
     ]
    }
   ],
   "source": [
    "X_train = load_mnist_images(os.path.join(data_dir, \"train-images.idx3-ubyte\"))\n",
    "y_train = load_mnist_labels(os.path.join(data_dir, \"train-labels.idx1-ubyte\"))\n",
    "X_test = load_mnist_images(os.path.join(data_dir, \"t10k-images.idx3-ubyte\"))\n",
    "y_test = load_mnist_labels(os.path.join(data_dir, \"t10k-labels.idx1-ubyte\"))\n",
    "print(\"Loaded MNIST dataset\")"
   ]
  },
  {
   "cell_type": "markdown",
   "metadata": {},
   "source": [
    "Initialise parameters"
   ]
  },
  {
   "cell_type": "code",
   "execution_count": 44,
   "metadata": {},
   "outputs": [
    {
     "name": "stdout",
     "output_type": "stream",
     "text": [
      "Parameters initialized\n"
     ]
    }
   ],
   "source": [
    "input_size = 784  #28x28 pixel images\n",
    "hidden_size = 128  #Number of hidden neurons\n",
    "output_size = 10  # Number of classes\n",
    "\n",
    "# Initialize weights and biases\n",
    "np.random.seed(6969)  # For reproducibility\n",
    "weights_input_hidden = np.random.randn(input_size, hidden_size) * 0.01\n",
    "bias_hidden = np.zeros((1, hidden_size))\n",
    "weights_hidden_output = np.random.randn(hidden_size, output_size) * 0.01\n",
    "bias_output = np.zeros((1, output_size))\n",
    "\n",
    "print(\"Parameters initialized\")"
   ]
  },
  {
   "cell_type": "markdown",
   "metadata": {},
   "source": [
    "define forward passing"
   ]
  },
  {
   "cell_type": "code",
   "execution_count": 45,
   "metadata": {},
   "outputs": [],
   "source": [
    "def relu(x):\n",
    "    return np.maximum(0, x)\n",
    "def softmax(x):\n",
    "    exp_x = np.exp(x - np.max(x, axis=1, keepdims=True))  # Subtract max for numerical stability\n",
    "    return exp_x / np.sum(exp_x, axis=1, keepdims=True)"
   ]
  },
  {
   "cell_type": "code",
   "execution_count": 46,
   "metadata": {},
   "outputs": [],
   "source": [
    "def forward_pass(X, weights_input_hidden, bias_hidden, weights_hidden_output, bias_output):\n",
    "    #Flatten the input images\n",
    "    X_flattened = X.reshape(X.shape[0], -1)  #Reshape to (num_samples, input_size)\n",
    "    \n",
    "    #Input to hidden layer\n",
    "    hidden_input = np.dot(X_flattened, weights_input_hidden) + bias_hidden\n",
    "    hidden_output = relu(hidden_input)  #Apply ReLU activation\n",
    "    \n",
    "    #Hidden to output layer\n",
    "    output_input = np.dot(hidden_output, weights_hidden_output) + bias_output\n",
    "    output = softmax(output_input)  # Apply softmax activation for output layer\n",
    "    \n",
    "    return output"
   ]
  },
  {
   "cell_type": "code",
   "execution_count": 47,
   "metadata": {},
   "outputs": [],
   "source": [
    "def cross_entropy_loss(predictions, labels):\n",
    "    #Clip predictions to avoid log(0)\n",
    "    predictions = np.clip(predictions, 1e-12, 1.0)\n",
    "    #Compute cross-entropy loss\n",
    "    loss = -np.sum(labels * np.log(predictions)) / labels.shape[0]\n",
    "    return loss"
   ]
  },
  {
   "cell_type": "code",
   "execution_count": 48,
   "metadata": {},
   "outputs": [],
   "source": [
    "def relu_derivative(x):\n",
    "    return (x > 0).astype(float)\n",
    "\n",
    "def backward_pass(X, y, output, weights_input_hidden, bias_hidden, weights_hidden_output, bias_output, learning_rate=0.01):\n",
    "    # One-hot encode the labels\n",
    "    y_one_hot = np.zeros((y.size, output_size))\n",
    "    y_one_hot[np.arange(y.size), y] = 1\n",
    "\n",
    "    # Compute the error at the output layer\n",
    "    output_error = output - y_one_hot  # Shape: (num_samples, output_size)\n",
    "\n",
    "    # Compute gradients for weights_hidden_output and bias_output\n",
    "    hidden_output = relu(np.dot(X.reshape(X.shape[0], -1), weights_input_hidden) + bias_hidden)\n",
    "    grad_weights_hidden_output = np.dot(hidden_output.T, output_error) / X.shape[0]\n",
    "    grad_bias_output = np.sum(output_error, axis=0, keepdims=True) / X.shape[0]\n",
    "\n",
    "    # Backpropagate the error to the hidden layer\n",
    "    hidden_error = np.dot(output_error, weights_hidden_output.T) * relu_derivative(hidden_output)\n",
    "\n",
    "    # Compute gradients for weights_input_hidden and bias_hidden\n",
    "    grad_weights_input_hidden = np.dot(X.reshape(X.shape[0], -1).T, hidden_error) / X.shape[0]\n",
    "    grad_bias_hidden = np.sum(hidden_error, axis=0, keepdims=True) / X.shape[0]\n",
    "\n",
    "    # Update weights and biases\n",
    "    weights_hidden_output -= learning_rate * grad_weights_hidden_output\n",
    "    bias_output -= learning_rate * grad_bias_output\n",
    "    weights_input_hidden -= learning_rate * grad_weights_input_hidden\n",
    "    bias_hidden -= learning_rate * grad_bias_hidden\n",
    "\n",
    "    return weights_input_hidden, bias_hidden, weights_hidden_output, bias_output"
   ]
  },
  {
   "cell_type": "code",
   "execution_count": 49,
   "metadata": {},
   "outputs": [],
   "source": [
    "def train(X_train, y_train, epochs=10, batch_size=100, learning_rate=0.01):\n",
    "    # Use global to access these variables defined outside the function\n",
    "    global weights_input_hidden, bias_hidden, weights_hidden_output, bias_output\n",
    "    \n",
    "    # Track loss history\n",
    "    loss_history = []\n",
    "    \n",
    "    for epoch in range(epochs):\n",
    "        # Shuffle the training data\n",
    "        indices = np.random.permutation(len(X_train))\n",
    "        X_shuffled = X_train[indices]\n",
    "        y_shuffled = y_train[indices]\n",
    "        \n",
    "        total_loss = 0\n",
    "        \n",
    "        # Process in mini-batches\n",
    "        for i in range(0, len(X_train), batch_size):\n",
    "            X_batch = X_shuffled[i:i+batch_size]\n",
    "            y_batch = y_shuffled[i:i+batch_size]\n",
    "            \n",
    "            # Forward pass\n",
    "            output = forward_pass(X_batch, weights_input_hidden, bias_hidden, \n",
    "                                 weights_hidden_output, bias_output)\n",
    "            \n",
    "            # Compute loss\n",
    "            y_one_hot = np.zeros((y_batch.size, output_size))\n",
    "            y_one_hot[np.arange(y_batch.size), y_batch] = 1\n",
    "            batch_loss = cross_entropy_loss(output, y_one_hot)\n",
    "            total_loss += batch_loss * len(X_batch)\n",
    "            \n",
    "            # Backward pass\n",
    "            weights_input_hidden, bias_hidden, weights_hidden_output, bias_output = backward_pass(\n",
    "                X_batch, y_batch, output, weights_input_hidden, bias_hidden, \n",
    "                weights_hidden_output, bias_output, learning_rate\n",
    "            )\n",
    "        \n",
    "        # Calculate average loss for the epoch\n",
    "        avg_loss = total_loss / len(X_train)\n",
    "        loss_history.append(avg_loss)\n",
    "        \n",
    "        # Print progress\n",
    "        print(f\"Epoch {epoch+1}/{epochs}, Loss: {avg_loss:.4f}\")\n",
    "    \n",
    "    return loss_history"
   ]
  },
  {
   "cell_type": "code",
   "execution_count": 50,
   "metadata": {},
   "outputs": [],
   "source": [
    "def evaluate(X, y):\n",
    "    # Forward pass\n",
    "    predictions = forward_pass(X, weights_input_hidden, bias_hidden, \n",
    "                              weights_hidden_output, bias_output)\n",
    "    \n",
    "    # Get predicted classes\n",
    "    predicted_classes = np.argmax(predictions, axis=1)\n",
    "    \n",
    "    # Calculate accuracy\n",
    "    accuracy = np.mean(predicted_classes == y)\n",
    "    return accuracy"
   ]
  },
  {
   "cell_type": "code",
   "execution_count": null,
   "metadata": {},
   "outputs": [
    {
     "name": "stdout",
     "output_type": "stream",
     "text": [
      "Epoch 1/100, Loss: 1.5214\n",
      "Epoch 2/100, Loss: 1.4833\n",
      "Epoch 3/100, Loss: 1.5000\n",
      "Epoch 4/100, Loss: 1.4866\n",
      "Epoch 5/100, Loss: 1.4811\n",
      "Epoch 6/100, Loss: 1.4847\n",
      "Epoch 7/100, Loss: 1.4744\n",
      "Epoch 8/100, Loss: 1.7233\n",
      "Epoch 9/100, Loss: 1.7792\n"
     ]
    }
   ],
   "source": [
    "# Run training\n",
    "epochs = 100\n",
    "batch_size = 128\n",
    "learning_rate = 0.01\n",
    "\n",
    "loss_history = train(X_train, y_train, epochs, batch_size, learning_rate)"
   ]
  },
  {
   "cell_type": "code",
   "execution_count": null,
   "metadata": {},
   "outputs": [
    {
     "data": {
      "image/png": "[encoded data removed]",
      "text/plain": [
       "<Figure size 1000x500 with 1 Axes>"
      ]
     },
     "metadata": {},
     "output_type": "display_data"
    },
    {
     "data": {
      "image/png": "[encoded data removed]",
      "text/plain": [
       "<Figure size 1500x300 with 10 Axes>"
      ]
     },
     "metadata": {},
     "output_type": "display_data"
    }
   ],
   "source": [
    "# Plot loss history\n",
    "import matplotlib.pyplot as plt\n",
    "\n",
    "plt.figure(figsize=(10, 5))\n",
    "plt.plot(loss_history)\n",
    "plt.title('Training Loss')\n",
    "plt.xlabel('Epoch')\n",
    "plt.ylabel('Cross-Entropy Loss')\n",
    "plt.grid(True)\n",
    "plt.show()\n",
    "\n",
    "# Visualize some predictions\n",
    "def visualize_predictions(num_samples=10):\n",
    "    # Get random test examples\n",
    "    indices = np.random.choice(len(X_test), num_samples)\n",
    "    \n",
    "    # Get predictions\n",
    "    test_images = X_test[indices]\n",
    "    test_labels = y_test[indices]\n",
    "    predictions = forward_pass(test_images, weights_input_hidden, bias_hidden, \n",
    "                              weights_hidden_output, bias_output)\n",
    "    predicted_classes = np.argmax(predictions, axis=1)\n",
    "    \n",
    "    # Plot\n",
    "    fig, axes = plt.subplots(1, num_samples, figsize=(15, 3))\n",
    "    for i in range(num_samples):\n",
    "        axes[i].imshow(test_images[i], cmap='gray')\n",
    "        axes[i].set_title(f\"True: {test_labels[i]}\\nPred: {predicted_classes[i]}\")\n",
    "        axes[i].axis('off')\n",
    "    plt.tight_layout()\n",
    "    plt.show()\n",
    "\n",
    "visualize_predictions()"
   ]
  },
  {
   "cell_type": "code",
   "execution_count": null,
   "metadata": {},
   "outputs": [
    {
     "name": "stdout",
     "output_type": "stream",
     "text": [
      "Test Accuracy: 0.3935\n"
     ]
    }
   ],
   "source": [
    "evaluate_accuracy = evaluate(X_test, y_test)\n",
    "print(f\"Test Accuracy: {evaluate_accuracy:.4f}\")\n"
   ]
  }
 ],
 "metadata": {
  "kernelspec": {
   "display_name": "base",
   "language": "python",
   "name": "python3"
  },
  "language_info": {
   "codemirror_mode": {
    "name": "ipython",
    "version": 3
   },
   "file_extension": ".py",
   "mimetype": "text/x-python",
   "name": "python",
   "nbconvert_exporter": "python",
   "pygments_lexer": "ipython3",
   "version": "3.12.7"
  }
 },
 "nbformat": 4,
 "nbformat_minor": 2
}
